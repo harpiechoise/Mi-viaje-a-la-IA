{
 "cells": [
  {
   "cell_type": "markdown",
   "metadata": {},
   "source": [
    "En este ultimo ejemplo de matplotlib veremos como graficar imagenes.\n",
    "\n",
    "### Teoria\n",
    "\n",
    "Cuando cargas imagenes en cualquier programa e incluso en el navegador, lo que estas viendo es una matriz con valores correspondientes a color y intensidad de cada pixel mostrado en pantalla, pero los archivos jpg y png no son matrices ya que se encuentran comprimidos, por lo que si la abrimos con el editor de texto los contenidos no podremos verlos representados como matrices, pero cuando descomprimimos la imagen nos retorna una matriz de valores, vamos a ver ahora algunas imagenes del dataset mnist que se puede conseguir en esta url [kaggle](https://www.kaggle.com/c/digit-recognizer)\n",
    "\n",
    "este dataset consta de 784 columnas cada una corresponde a un pixel en blanco y negro porque si fuera a color serian 3 valores, que se corresponden a los valores RGB o de 3 canales, ahora veremos como poner estos 784 valores en matplotlib para visuaizar la imagen"
   ]
  },
  {
   "cell_type": "code",
   "execution_count": 1,
   "metadata": {},
   "outputs": [],
   "source": [
    "import pandas as pd \n",
    "import matplotlib.pyplot as plt\n",
    "%matplotlib inline\n",
    "df = pd.read_csv('Data/mnist.csv')"
   ]
  },
  {
   "cell_type": "code",
   "execution_count": 2,
   "metadata": {},
   "outputs": [
    {
     "data": {
      "text/plain": [
       "(28000, 784)"
      ]
     },
     "execution_count": 2,
     "metadata": {},
     "output_type": "execute_result"
    }
   ],
   "source": [
    "df.shape"
   ]
  },
  {
   "cell_type": "markdown",
   "metadata": {},
   "source": [
    "Aqui podemos chequear la forma que son 28000 ejemplos y 784 columnas como habiamos dicho lo que se corresponde con una imagen en blanco y negro de 28x28\n",
    "\n",
    "para visualizarlo devemos pasarlo a una matriz"
   ]
  },
  {
   "cell_type": "code",
   "execution_count": 3,
   "metadata": {},
   "outputs": [
    {
     "name": "stderr",
     "output_type": "stream",
     "text": [
      "/home/jaime/.local/lib/python3.6/site-packages/ipykernel_launcher.py:1: FutureWarning: Method .as_matrix will be removed in a future version. Use .values instead.\n",
      "  \"\"\"Entry point for launching an IPython kernel.\n"
     ]
    }
   ],
   "source": [
    "M = df.as_matrix()"
   ]
  },
  {
   "cell_type": "code",
   "execution_count": 4,
   "metadata": {},
   "outputs": [],
   "source": [
    "im = M[0]"
   ]
  },
  {
   "cell_type": "markdown",
   "metadata": {},
   "source": [
    "Ahora tenemos la imagen 0 para ver su contenido tiene que cumplir una caracteristica y es pasarla en vez de 784 en una forma de imagen en este caso 28x28, para esto usaremos el comando **Reshape** nativo de numpy"
   ]
  },
  {
   "cell_type": "code",
   "execution_count": 9,
   "metadata": {},
   "outputs": [],
   "source": [
    "original_shape = im.shape\n",
    "im = im.reshape(28,28)\n",
    "new_shape = im.shape"
   ]
  },
  {
   "cell_type": "code",
   "execution_count": 10,
   "metadata": {},
   "outputs": [
    {
     "name": "stdout",
     "output_type": "stream",
     "text": [
      "Forma Original: (28, 28)\n",
      "Forma de imagen: (28, 28)\n"
     ]
    }
   ],
   "source": [
    "print('Forma Original: {}'.format(original_shape))\n",
    "print('Forma de imagen: {}'.format(new_shape))"
   ]
  },
  {
   "cell_type": "markdown",
   "metadata": {},
   "source": [
    "Ahora para poder ver el contenido de esa imagen vamos a usar el metodo de matplotlib.pyplot llamado imshow, que recive como argumentos la **imagen**, y el mapa de colores con la palabra clave [**cmap**](https://matplotlib.org/examples/color/colormaps_reference.html)"
   ]
  },
  {
   "cell_type": "code",
   "execution_count": 11,
   "metadata": {},
   "outputs": [
    {
     "data": {
      "image/png": "[encoded data removed]",
      "text/plain": [
       "<Figure size 432x288 with 1 Axes>"
      ]
     },
     "metadata": {},
     "output_type": "display_data"
    }
   ],
   "source": [
    "plt.imshow(im,cmap='gray')\n",
    "plt.show()"
   ]
  },
  {
   "cell_type": "markdown",
   "metadata": {},
   "source": [
    "Como podemos visualizar esta imagen corresponde a un dos"
   ]
  },
  {
   "cell_type": "code",
   "execution_count": null,
   "metadata": {},
   "outputs": [],
   "source": []
  }
 ],
 "metadata": {
  "kernelspec": {
   "display_name": "Python 3",
   "language": "python",
   "name": "python3"
  },
  "language_info": {
   "codemirror_mode": {
    "name": "ipython",
    "version": 3
   },
   "file_extension": ".py",
   "mimetype": "text/x-python",
   "name": "python",
   "nbconvert_exporter": "python",
   "pygments_lexer": "ipython3",
   "version": "3.6.5"
  }
 },
 "nbformat": 4,
 "nbformat_minor": 2
}

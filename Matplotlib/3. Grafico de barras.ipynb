{
 "cells": [
  {
   "cell_type": "markdown",
   "metadata": {},
   "source": [
    "### Grafico de barras\n",
    "\n",
    "Otra formas popular de visualizacion de datos es el histograma o grafico de barras, nos servira para visualizar la distribuicion probabilistica de los datos o en otras palabras la frecuencia de cada agrupacion de valores vamos a ver como poder realizar este grafico en este documento.\n",
    "\n",
    "para hacer un grafico de barras debemos usar el metodo **hist** de matplotlib que recibe como parametro un valor unidimensional"
   ]
  },
  {
   "cell_type": "code",
   "execution_count": 2,
   "metadata": {},
   "outputs": [],
   "source": [
    "import matplotlib.pyplot as plt\n",
    "%matplotlib inline\n",
    "import pandas as pd"
   ]
  },
  {
   "cell_type": "code",
   "execution_count": 15,
   "metadata": {},
   "outputs": [
    {
     "name": "stderr",
     "output_type": "stream",
     "text": [
      "/home/jaime/.local/lib/python3.6/site-packages/ipykernel_launcher.py:1: FutureWarning: Method .as_matrix will be removed in a future version. Use .values instead.\n",
      "  \"\"\"Entry point for launching an IPython kernel.\n"
     ]
    }
   ],
   "source": [
    "df = pd.read_csv('Data/data_1d.csv', header=None).as_matrix()\n",
    "X = df[:,0]\n",
    "y = df[:,1]"
   ]
  },
  {
   "cell_type": "code",
   "execution_count": 16,
   "metadata": {},
   "outputs": [
    {
     "data": {
      "image/png": "[encoded data removed]",
      "text/plain": [
       "<Figure size 432x288 with 1 Axes>"
      ]
     },
     "metadata": {},
     "output_type": "display_data"
    }
   ],
   "source": [
    "plt.hist(X)\n",
    "plt.show()"
   ]
  },
  {
   "cell_type": "markdown",
   "metadata": {},
   "source": [
    "Aqui podemos ver la distribuicion probabilistica de X, lo cual nos indica cuantos puntos hay por cada agrupacion de datos\n",
    "\n",
    "como lo vimos anteriormente la funcion random de numpy nos daba datos aleatorios uniformes y de esta forma podemos comprobar esa afirmacion de manera visual, vamos a intentarlo"
   ]
  },
  {
   "cell_type": "code",
   "execution_count": 17,
   "metadata": {},
   "outputs": [],
   "source": [
    "import numpy as np\n"
   ]
  },
  {
   "cell_type": "code",
   "execution_count": 18,
   "metadata": {},
   "outputs": [],
   "source": [
    "x = np.random.random(10000)"
   ]
  },
  {
   "cell_type": "code",
   "execution_count": 19,
   "metadata": {},
   "outputs": [
    {
     "data": {
      "image/png": "[encoded data removed]",
      "text/plain": [
       "<Figure size 432x288 with 1 Axes>"
      ]
     },
     "metadata": {},
     "output_type": "display_data"
    }
   ],
   "source": [
    "plt.hist(x)\n",
    "plt.show()"
   ]
  },
  {
   "cell_type": "markdown",
   "metadata": {},
   "source": [
    "Como podemos ver la distribucion de numeros aleatorios se ve muy uniforme, no hay gran saltos de valores.\n",
    "\n",
    "otro argumento que podemos pasar al metodo **hist** es el control de numero de agrupaciones de datos por defecto estos siempre mostraran 10 pero con el argumento **bins** podemos aumentar o disminuir el numero de barras"
   ]
  },
  {
   "cell_type": "code",
   "execution_count": 20,
   "metadata": {},
   "outputs": [
    {
     "data": {
      "image/png": "[encoded data removed]",
      "text/plain": [
       "<Figure size 432x288 with 1 Axes>"
      ]
     },
     "metadata": {},
     "output_type": "display_data"
    }
   ],
   "source": [
    "plt.hist(x,bins=20)\n",
    "plt.show()"
   ]
  },
  {
   "cell_type": "markdown",
   "metadata": {},
   "source": [
    "Los datos aun se ven uniformes, pero menos uniformes que antes, por lo que he de recordar que son valores aleatorios nunca seran totalmente uniformes, si no aproximadamente uniformes\n",
    "\n",
    "un ultimo ejemplo, una afirmacion que decimos, en la regresion lineal es que el error esta distribuido uniformemente, para poder probar que algo esta distribuido uniformemente debemos usar el grafico de barras asique vamos a verlo"
   ]
  },
  {
   "cell_type": "code",
   "execution_count": 23,
   "metadata": {},
   "outputs": [
    {
     "data": {
      "image/png": "[encoded data removed]",
      "text/plain": [
       "<Figure size 432x288 with 1 Axes>"
      ]
     },
     "metadata": {},
     "output_type": "display_data"
    }
   ],
   "source": [
    "y_actual = 2*X + 1\n",
    "residuales = y - y_actual\n",
    "plt.hist(residuales)\n",
    "plt.show()"
   ]
  },
  {
   "cell_type": "markdown",
   "metadata": {},
   "source": [
    "Bueno como vemos es menos uniforme de lo que se piensa aun asi, con 100 puntos el resultado no va a ser muy preciso"
   ]
  }
 ],
 "metadata": {
  "kernelspec": {
   "display_name": "Python 3",
   "language": "python",
   "name": "python3"
  },
  "language_info": {
   "codemirror_mode": {
    "name": "ipython",
    "version": 3
   },
   "file_extension": ".py",
   "mimetype": "text/x-python",
   "name": "python",
   "nbconvert_exporter": "python",
   "pygments_lexer": "ipython3",
   "version": "3.6.5"
  }
 },
 "nbformat": 4,
 "nbformat_minor": 2
}

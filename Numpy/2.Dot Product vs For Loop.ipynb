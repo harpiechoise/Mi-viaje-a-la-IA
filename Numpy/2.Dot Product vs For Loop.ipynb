{
 "cells": [
  {
   "cell_type": "markdown",
   "metadata": {},
   "source": [
    "### Dot product o Producto escalar\n",
    "\n",
    "es una operacion que relaciona dos vectores y nos da como resultado un producto escalar que sirve para calcular el angulo de dos vectores y se usa mayormente para saber si el vector es octogonal perpendicular y cuando el angulo entre dos vectores es nulo se aplica la ecuacion del plano su formula es\n",
    "\n",
    "\\begin{equation}\n",
    "a\\bullet b = a^Tb = \\sum_{d=1}^{D}a_db_d\n",
    "\\end{equation}\n",
    "\n",
    "Para calcular la magnitud tendremos la siguiente formula\n",
    "\\begin{equation}\n",
    "    a\\bullet b = |a||b|cos\\theta_{ab}\n",
    "\\end{equation}\n",
    "\n",
    "y el segundo metodo se basa en sacar el angulo en si \n",
    "\\begin{equation}\n",
    "cos\\theta_{ab} = \\frac{a^T b}{|a||b|}\n",
    "\\end{equation}\n",
    "\n",
    "Ahora la pasaremos a codigo"
   ]
  },
  {
   "cell_type": "code",
   "execution_count": 8,
   "metadata": {},
   "outputs": [
    {
     "data": {
      "text/plain": [
       "4"
      ]
     },
     "execution_count": 8,
     "metadata": {},
     "output_type": "execute_result"
    }
   ],
   "source": [
    "import numpy as np\n",
    "#Empezamos definiendo dos vectores\n",
    "a = np.array([1,2])\n",
    "b = np.array([2,1])\n",
    "\n",
    "#Usaremos la definicion tipica del producto escalar por lo que\n",
    "#Recorremos dos vectores simultaneamente multiplicando cada producto coorespondiente \n",
    "#Y agregarla a la suma final\n",
    "def productoEscalar(a,b):\n",
    "    scalar = 0\n",
    "    for e, f in zip(a,b):\n",
    "        scalar += e*f\n",
    "    return scalar\n",
    "\n",
    "productoEscalar(a,b)"
   ]
  },
  {
   "cell_type": "code",
   "execution_count": 9,
   "metadata": {},
   "outputs": [],
   "source": [
    "def productoEscalarNumpy(a,b):\n",
    "    #calculando el producto escalar\n",
    "    return np.sum(a*b)"
   ]
  },
  {
   "cell_type": "code",
   "execution_count": 10,
   "metadata": {},
   "outputs": [
    {
     "data": {
      "text/plain": [
       "4"
      ]
     },
     "execution_count": 10,
     "metadata": {},
     "output_type": "execute_result"
    }
   ],
   "source": [
    "productoEscalarNumpy(a,b)"
   ]
  },
  {
   "cell_type": "code",
   "execution_count": 11,
   "metadata": {},
   "outputs": [
    {
     "data": {
      "text/plain": [
       "4"
      ]
     },
     "execution_count": 11,
     "metadata": {},
     "output_type": "execute_result"
    }
   ],
   "source": [
    "#otra forma es haciendo esto\n",
    "(a*b).sum()"
   ]
  },
  {
   "cell_type": "code",
   "execution_count": 12,
   "metadata": {},
   "outputs": [
    {
     "data": {
      "text/plain": [
       "4"
      ]
     },
     "execution_count": 12,
     "metadata": {},
     "output_type": "execute_result"
    }
   ],
   "source": [
    "#Pero al igual que todos estos metodos numpy tiene un metodo para \n",
    "#calcular el producto escalar\n",
    "np.dot(a,b)"
   ]
  },
  {
   "cell_type": "code",
   "execution_count": 13,
   "metadata": {},
   "outputs": [
    {
     "data": {
      "text/plain": [
       "4"
      ]
     },
     "execution_count": 13,
     "metadata": {},
     "output_type": "execute_result"
    }
   ],
   "source": [
    "#Y tambien dot es un metodo de los arreglos numpy\n",
    "a.dot(b)"
   ]
  },
  {
   "cell_type": "markdown",
   "metadata": {},
   "source": [
    "Para calcular la magnitud con todo lo que sabemos \n",
    "La magnitud puede ser la desplazamiento fuerza o direccion la cual es representada con una flecha llamada vector\n",
    "\n",
    "\\begin{equation}\n",
    "    m = \\sqrt{\\vec{a} + \\vec{b}}\n",
    "\\end{equation}"
   ]
  },
  {
   "cell_type": "code",
   "execution_count": 20,
   "metadata": {},
   "outputs": [
    {
     "data": {
      "text/plain": [
       "2.23606797749979"
      ]
     },
     "execution_count": 20,
     "metadata": {},
     "output_type": "execute_result"
    }
   ],
   "source": [
    "np.sqrt((a*a).sum())"
   ]
  },
  {
   "cell_type": "code",
   "execution_count": 19,
   "metadata": {},
   "outputs": [
    {
     "data": {
      "text/plain": [
       "2.23606797749979"
      ]
     },
     "execution_count": 19,
     "metadata": {},
     "output_type": "execute_result"
    }
   ],
   "source": [
    "#aunque numpy nos ofrece otra vez una formula para eso en el modulo de algebra lineal\n",
    "np.linalg.norm(a)"
   ]
  },
  {
   "cell_type": "code",
   "execution_count": 21,
   "metadata": {},
   "outputs": [],
   "source": [
    "#por ultimo calculamos el coseno del angulo\n",
    "cosangle = a.dot(b) / (np.linalg.norm(a) * np.linalg.norm(b))\n"
   ]
  },
  {
   "cell_type": "code",
   "execution_count": 22,
   "metadata": {},
   "outputs": [
    {
     "data": {
      "text/plain": [
       "0.7999999999999998"
      ]
     },
     "execution_count": 22,
     "metadata": {},
     "output_type": "execute_result"
    }
   ],
   "source": [
    "cosangle"
   ]
  },
  {
   "cell_type": "code",
   "execution_count": 24,
   "metadata": {},
   "outputs": [],
   "source": [
    "#Y el arco coseno se puede sacar con mumpy al igual que todo lo anterior\n",
    "angulo = np.arccos(cosangle)"
   ]
  },
  {
   "cell_type": "code",
   "execution_count": 25,
   "metadata": {},
   "outputs": [
    {
     "data": {
      "text/plain": [
       "0.6435011087932847"
      ]
     },
     "execution_count": 25,
     "metadata": {},
     "output_type": "execute_result"
    }
   ],
   "source": [
    "# El angulo en radianes seria\n",
    "angulo"
   ]
  },
  {
   "cell_type": "code",
   "execution_count": 37,
   "metadata": {},
   "outputs": [
    {
     "name": "stdout",
     "output_type": "stream",
     "text": [
      "Tiempo de las listas: 0:00:00.177176,\n",
      "tiempo de numpy: 0:00:00.000852\n",
      "Numpy es 207.95305164319248 veces mas rapido\n"
     ]
    }
   ],
   "source": [
    "from datetime import datetime\n",
    "#ahora veremos cual es el metodo mas rapido si los arreglos numpy o las listas\n",
    "a = np.random.randn(1000)\n",
    "b = np.random.randn(1000)\n",
    "T = 1000\n",
    "t0 = datetime.now()\n",
    "for t in range(T):\n",
    "    productoEscalar(a,b)\n",
    "dt1 = datetime.now() - t0\n",
    "\n",
    "t0 = datetime.now()\n",
    "for t in range(T):\n",
    "    a.dot(b)\n",
    "dt2 = datetime.now() - t0\n",
    "\n",
    "print('Tiempo de las listas: {},\\ntiempo de numpy: {}'.format(dt1,dt2))\n",
    "print('Numpy es {} veces mas rapido'.format(dt1/dt2))"
   ]
  },
  {
   "cell_type": "code",
   "execution_count": null,
   "metadata": {},
   "outputs": [],
   "source": []
  }
 ],
 "metadata": {
  "kernelspec": {
   "display_name": "Python 3",
   "language": "python",
   "name": "python3"
  },
  "language_info": {
   "codemirror_mode": {
    "name": "ipython",
    "version": 3
   },
   "file_extension": ".py",
   "mimetype": "text/x-python",
   "name": "python",
   "nbconvert_exporter": "python",
   "pygments_lexer": "ipython3",
   "version": "3.6.5"
  }
 },
 "nbformat": 4,
 "nbformat_minor": 2
}

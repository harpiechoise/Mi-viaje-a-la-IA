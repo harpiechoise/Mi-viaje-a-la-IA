{
 "cells": [
  {
   "cell_type": "markdown",
   "metadata": {},
   "source": [
    "## Coeficiente de coorelacion de pearson\n",
    "\n",
    "#### ¿ Que es ?\n",
    "\n",
    "El **Coeficiente de Coorelacion Lineal De Pearson** es una medida de la relacion de dos variables cuantitativas. A diferencia de la covarianza, la correlacion de Pearson es independiente de la escala de medida de las variables.\n",
    "\n",
    "De manera menos formal, podemos definir el coeficiente de coorelacion de **Pearson** como un indice puede utilizarse para medir el grado de relacion entre dos variables\n",
    "\n",
    "#### Formula\n",
    "\n",
    "\\begin{equation}\n",
    "r = \\frac{Sxy}{Sx \\ Sy}\n",
    "\\end{equation}\n",
    "\n",
    "Donde r es el coeficiente de coorelacion y \n",
    "Sxy es la coovarianza de X e Y\n",
    "Sx es la desviacion standar de X\n",
    "Sy es la desviacion standar de Y\n",
    "\n",
    "#### Coovarianza de X e Y:\n",
    "    \n",
    "    \n",
    "\\begin{equation}\n",
    "Sxy \\ = \\frac{\\sum{(X-|X|)(Y-|Y|)}}{M}\n",
    "\\end{equation}\n",
    "    \n",
    "Donde M = Cantidad de datos\n",
    "\n",
    "#### Desviacion Standart de X:\n",
    "    \n",
    "    \n",
    "\\begin{equation}\n",
    "Sx \\ = \\frac{\\sqrt{\\sum{(X - |X|)^2}}}{M}\n",
    "\\end{equation}\n",
    "\n",
    "Donde M = Cantidad de datos\n",
    "\\begin{equation}\n",
    "Sy \\ = \\frac{\\sqrt{\\sum{(Y - |Y|)^2}}}{M}\n",
    "\\end{equation}\n",
    "\n",
    "\n",
    "Donde M = Cantidad de datos"
   ]
  },
  {
   "cell_type": "code",
   "execution_count": 4,
   "metadata": {},
   "outputs": [],
   "source": [
    "import numpy as np\n",
    "X = np.array([178,160,183,152,168,178,188,165,157,170,165,173])\n",
    "Y = np.array([69.8,67.5,81,60.8,70.2,75.6,80.1,72,59.4,65.3,62.6,68.4])"
   ]
  },
  {
   "cell_type": "code",
   "execution_count": 7,
   "metadata": {},
   "outputs": [],
   "source": [
    "class Parson:\n",
    "    def __init__(self,X,Y):\n",
    "        self.X = X\n",
    "        self.Y = Y\n",
    "        self.Sx = 0\n",
    "        self.Sy = 0\n",
    "        self.Sxy = 0\n",
    "        self.r = 0\n",
    "        self.Xa = 0\n",
    "        self.Xb = 0\n",
    "        self.Ya = 0\n",
    "        self.Yb = 0\n",
    "        self.sacarValores()\n",
    "    def sacarValores(self):    \n",
    "        self.Sxy = np.sum((self.X - self.X.mean())*(self.Y-self.Y.mean())) / self.X.shape[0]\n",
    "        self.Sx = np.sqrt(np.sum(np.square(self.X - self.X.mean())) / self.X.shape[0])\n",
    "        self.Sy = np.sqrt(np.sum(np.square(self.Y-self.Y.mean())) / self.Y.shape[0])\n",
    "\n",
    "        self.r = self.Sxy / (self.Sx * self.Sy)\n",
    "\n",
    "        #Recta de regresion Y sobre X\n",
    "        self.Yb = self.Sxy / (self.Sy**2)\n",
    "        self.Ya = self.Y.mean() - (self.Yb*X.mean())\n",
    "        #Recta de regresion y* = a + bx \n",
    "\n",
    "        #Recta de regresion X sobre Y\n",
    "        self.Xb = self.Sxy / (self.Sy**2)\n",
    "        self.Xa = self.X.mean() - (self.Xb * self.Y.mean())\n",
    "        \n",
    "    def predictX(self,val):\n",
    "        return self.Ya + (self.Yb * val)\n",
    "    def predictY(self,val):\n",
    "        return self.Xa + (self.Xb * val)\n",
    "    def returnCorr(self):\n",
    "        print('Coeficiente:{}\\nPorcentaje de coorelacion:{}%'.format(self.r,(self.r**2)*100))"
   ]
  },
  {
   "cell_type": "code",
   "execution_count": 8,
   "metadata": {},
   "outputs": [],
   "source": [
    "predictor = Parson(X,Y)"
   ]
  },
  {
   "cell_type": "code",
   "execution_count": 9,
   "metadata": {},
   "outputs": [
    {
     "data": {
      "text/plain": [
       "68.39052614402934"
      ]
     },
     "execution_count": 9,
     "metadata": {},
     "output_type": "execute_result"
    }
   ],
   "source": [
    "predictor.predictX(169)"
   ]
  },
  {
   "cell_type": "code",
   "execution_count": 10,
   "metadata": {},
   "outputs": [
    {
     "data": {
      "text/plain": [
       "182.57572247334252"
      ]
     },
     "execution_count": 10,
     "metadata": {},
     "output_type": "execute_result"
    }
   ],
   "source": [
    "predictor.predictY(79)"
   ]
  },
  {
   "cell_type": "code",
   "execution_count": 11,
   "metadata": {},
   "outputs": [
    {
     "name": "stdout",
     "output_type": "stream",
     "text": [
      "Coeficiente:0.8656039343168033\n",
      "Porcentaje de coorelacion:74.92701711047287%\n"
     ]
    }
   ],
   "source": [
    "predictor.returnCorr()"
   ]
  },
  {
   "cell_type": "code",
   "execution_count": null,
   "metadata": {},
   "outputs": [],
   "source": []
  }
 ],
 "metadata": {
  "kernelspec": {
   "display_name": "Python 3",
   "language": "python",
   "name": "python3"
  }
 },
 "nbformat": 4,
 "nbformat_minor": 2
}

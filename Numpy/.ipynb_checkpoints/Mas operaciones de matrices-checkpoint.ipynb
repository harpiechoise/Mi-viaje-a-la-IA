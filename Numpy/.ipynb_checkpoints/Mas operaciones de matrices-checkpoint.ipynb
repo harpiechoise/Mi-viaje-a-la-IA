{
 "cells": [
  {
   "cell_type": "markdown",
   "metadata": {},
   "source": [
    "### Funciones utiles en matrices dentro de numpy\n",
    "\n",
    "#### Un poco de algebra lineal \n",
    " \n",
    "___La funcion inversa de la matriz___\n",
    "\n",
    "Para que una matriz tenga inversa se deben cumplir ciertas condiciones la primera es tener una matriz cuadrada es decir ___n x n___ o ___n x n x n___.\n",
    "\n",
    "Notacion \n",
    "\\begin{equation}\n",
    "A^{-1} = Matriz \\ Inversa \\\\\n",
    "I = Identidad \\\\\n",
    "T = Matriz \\ Transpuesta\n",
    "\\end{equation}\n",
    "Algunas propiedades\n",
    "\n",
    "<center>Propiedad 1<center>\n",
    "    \n",
    "    \n",
    "\\begin{equation} A \\bullet A^{-1} = I \\\\ A^{-1} \\bullet A = I \\\\ \\end{equation}\n",
    "\n",
    "\n",
    "<center>Propiedad 2<center>\n",
    "    \n",
    "    \n",
    "\\begin{equation} (A \\bullet B)^{-1} = B^{-1} \\bullet A^{-1}\\\\ \\end{equation}\n",
    "\n",
    "\n",
    "<center>Propiedad 3<center>\n",
    "    \n",
    "    \n",
    "\\begin{equation} (A^{-1})^{-1} = A \\\\ \\end{equation}\n",
    "<center>Propiedad 4<center>\n",
    "    \n",
    "    \n",
    "\\begin{equation} (K*A)^{-1} = \\frac{-1}{K} * A^{-1} \\\\ \\end{equation}\n",
    "\n",
    "\n",
    "<center>Propiedad 5<center>   \n",
    "    \n",
    "    \n",
    "\\begin{equation} (A^{T})^{-1} = (A^{-1})^{T} \\end{equation}\n",
    "\n",
    "cuando una matriz tiene inversa se dice que es **Regular** y cuando no tiene inversa se dice que no es **Regular** \n",
    "\n",
    "<center>Formula:<center>\n",
    "    \n",
    "\\begin{equation}\n",
    "A^{-1} = \\frac{-1}{|A|}\\bullet (A^{ad})^{T}\n",
    "\\end{equation}\n"
   ]
  },
  {
   "cell_type": "code",
   "execution_count": 2,
   "metadata": {},
   "outputs": [],
   "source": [
    "import numpy as np\n",
    "A = [[1,2],[3,4]]\n",
    "Ainv = np.linalg.inv(A)"
   ]
  },
  {
   "cell_type": "code",
   "execution_count": 11,
   "metadata": {},
   "outputs": [
    {
     "data": {
      "text/plain": [
       "array([[-2. ,  1. ],\n",
       "       [ 1.5, -0.5]])"
      ]
     },
     "execution_count": 11,
     "metadata": {},
     "output_type": "execute_result"
    }
   ],
   "source": [
    "#Resultado\n",
    "Ainv"
   ]
  },
  {
   "cell_type": "code",
   "execution_count": 12,
   "metadata": {},
   "outputs": [
    {
     "data": {
      "text/plain": [
       "array([[1., 2.],\n",
       "       [3., 4.]])"
      ]
     },
     "execution_count": 12,
     "metadata": {},
     "output_type": "execute_result"
    }
   ],
   "source": [
    "#Comprobacion\n",
    "np.linalg.inv(Ainv)"
   ]
  },
  {
   "cell_type": "code",
   "execution_count": 14,
   "metadata": {},
   "outputs": [
    {
     "data": {
      "text/plain": [
       "array([[1.00000000e+00, 0.00000000e+00],\n",
       "       [1.11022302e-16, 1.00000000e+00]])"
      ]
     },
     "execution_count": 14,
     "metadata": {},
     "output_type": "execute_result"
    }
   ],
   "source": [
    "#Identidad\n",
    "Ainv.dot(A)"
   ]
  },
  {
   "cell_type": "code",
   "execution_count": 15,
   "metadata": {},
   "outputs": [
    {
     "data": {
      "text/plain": [
       "-2.0000000000000004"
      ]
     },
     "execution_count": 15,
     "metadata": {},
     "output_type": "execute_result"
    }
   ],
   "source": [
    "#Determinante\n",
    "det = np.linalg.det(A)"
   ]
  },
  {
   "cell_type": "code",
   "execution_count": 16,
   "metadata": {},
   "outputs": [],
   "source": [
    "#Diagonal\n",
    "diag = np.diag(A)\n",
    "diag"
   ]
  },
  {
   "cell_type": "code",
   "execution_count": 19,
   "metadata": {},
   "outputs": [
    {
     "data": {
      "text/plain": [
       "array([[1, 0, 0],\n",
       "       [0, 1, 0],\n",
       "       [0, 0, 1]])"
      ]
     },
     "execution_count": 19,
     "metadata": {},
     "output_type": "execute_result"
    }
   ],
   "source": [
    "#Si queremos una matriz diagonal de n dimensiones con ceros a los lados \n",
    "#Devemos poner cuantos numero queramos en la diagonal \n",
    "np.diag([1,2])\n"
   ]
  },
  {
   "cell_type": "code",
   "execution_count": 20,
   "metadata": {},
   "outputs": [
    {
     "data": {
      "text/plain": [
       "array([[1, 0, 0],\n",
       "       [0, 1, 0],\n",
       "       [0, 0, 1]])"
      ]
     },
     "execution_count": 20,
     "metadata": {},
     "output_type": "execute_result"
    }
   ],
   "source": [
    "np.diag([1,1,1])"
   ]
  },
  {
   "cell_type": "code",
   "execution_count": 21,
   "metadata": {},
   "outputs": [],
   "source": [
    "#Producto interno y producto enxterno\n",
    "a = np.array([1,2])\n",
    "b = np.array([3,4])\n",
    "\n",
    "#Producto externo\n",
    "op = np.outer(a,b)\n",
    "ip = np.inner(a,b)"
   ]
  },
  {
   "cell_type": "code",
   "execution_count": 23,
   "metadata": {},
   "outputs": [
    {
     "name": "stdout",
     "output_type": "stream",
     "text": [
      "[[3 4]\n",
      " [6 8]]\n",
      "11\n"
     ]
    }
   ],
   "source": [
    "print(op)\n",
    "print(ip)"
   ]
  },
  {
   "cell_type": "code",
   "execution_count": 24,
   "metadata": {},
   "outputs": [
    {
     "data": {
      "text/plain": [
       "5"
      ]
     },
     "execution_count": 24,
     "metadata": {},
     "output_type": "execute_result"
    }
   ],
   "source": [
    "#Suma de las diagonales de las matrices\n",
    "np.diag(A).sum()"
   ]
  },
  {
   "cell_type": "code",
   "execution_count": 25,
   "metadata": {},
   "outputs": [
    {
     "data": {
      "text/plain": [
       "5"
      ]
     },
     "execution_count": 25,
     "metadata": {},
     "output_type": "execute_result"
    }
   ],
   "source": [
    "np.trace(A)"
   ]
  },
  {
   "cell_type": "code",
   "execution_count": 28,
   "metadata": {},
   "outputs": [
    {
     "data": {
      "text/plain": [
       "(3, 3)"
      ]
     },
     "execution_count": 28,
     "metadata": {},
     "output_type": "execute_result"
    }
   ],
   "source": [
    "# Valores propios y vectores propios con numpy\n",
    "X = np.random.randn(100,3)\n",
    "cov = np.cov(X.T)\n",
    "cov.shape"
   ]
  },
  {
   "cell_type": "code",
   "execution_count": 29,
   "metadata": {},
   "outputs": [
    {
     "data": {
      "text/plain": [
       "array([[0.8636876 , 0.03800507, 0.06677371],\n",
       "       [0.03800507, 1.01494249, 0.01815459],\n",
       "       [0.06677371, 0.01815459, 1.07433936]])"
      ]
     },
     "execution_count": 29,
     "metadata": {},
     "output_type": "execute_result"
    }
   ],
   "source": [
    "cov "
   ]
  }
 ],
 "metadata": {
  "kernelspec": {
   "display_name": "Python 3",
   "language": "python",
   "name": "python3"
  },
  "language_info": {
   "codemirror_mode": {
    "name": "ipython",
    "version": 3
   },
   "file_extension": ".py",
   "mimetype": "text/x-python",
   "name": "python",
   "nbconvert_exporter": "python",
   "pygments_lexer": "ipython3",
   "version": "3.6.5"
  }
 },
 "nbformat": 4,
 "nbformat_minor": 2
}

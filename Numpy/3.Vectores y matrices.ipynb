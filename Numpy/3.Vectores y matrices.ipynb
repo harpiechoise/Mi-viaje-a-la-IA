{
 "cells": [
  {
   "cell_type": "markdown",
   "metadata": {},
   "source": [
    "### Que es una matriz\n",
    " \n",
    "Un vector es cualquier array de numpy pero una matriz es como una tabla donde tenemos columnas y filas \n",
    "\n",
    "``` python\n",
    "np.array([1,2,3]) > Vector\n",
    "np.array([[1,2],[3,4]]) > Matriz\n",
    "``` \n",
    "Al ser una tabla con un numero definido de elementos por cada lista al hacer una matriz debemos respetar la forma de la misma si tenemos una matriz de definida asi \n",
    "\n",
    "```python\n",
    "np.array([[1,2,3],[1,2,3],[1,2,3]])\n",
    "```\n",
    "Tendra la siguiente forma (3,3) que correspondera a las columnas y a cuantos filas habra en este caso 3 filas de 3 elementos otro ejemplo\n",
    "```python\n",
    "np.array([[1,2],[1,2],[1,2]])\n",
    "```\n",
    "Tendra una forma de (3,2) para accesar a la forma de la matriz cada una de estas tiene un metodo ***shape*** por el cual podremos ver como esta constituida la matriz\n",
    "```python\n",
    "np.array([[1,2],[1,2],[1,2]]).shape # devuelve (1,2)\n",
    "```\n",
    "cualquier error tanto en numpy como en librerias de deep learning que nos indiquen el atributo ***shape*** se deve a estas inconsistencias de datos en la matriz\n",
    "\n",
    "La forma mas facil de pensar en esto esque una matriz es un vecor de 1 dimension que contiene datos, pero una matriz es un vector de n dimensiones que pueden contener datos o mas dimensiones dentro"
   ]
  },
  {
   "cell_type": "code",
   "execution_count": 3,
   "metadata": {},
   "outputs": [],
   "source": [
    "#Ejemplo para accesar a las matrices\n",
    "import numpy as np\n",
    "A = np.array([[1,2],[1,2],[1,2]])\n",
    "L = [[1,2],[1,2],[1,2]]"
   ]
  },
  {
   "cell_type": "code",
   "execution_count": 4,
   "metadata": {},
   "outputs": [
    {
     "data": {
      "text/plain": [
       "[1, 2]"
      ]
     },
     "execution_count": 4,
     "metadata": {},
     "output_type": "execute_result"
    }
   ],
   "source": [
    "#Para acceder a la primera lista de la lista usamos esto\n",
    "L[0]"
   ]
  },
  {
   "cell_type": "code",
   "execution_count": 6,
   "metadata": {},
   "outputs": [
    {
     "data": {
      "text/plain": [
       "1"
      ]
     },
     "execution_count": 6,
     "metadata": {},
     "output_type": "execute_result"
    }
   ],
   "source": [
    "#Y para el subindice usamos esto\n",
    "L[0][0]"
   ]
  },
  {
   "cell_type": "code",
   "execution_count": 7,
   "metadata": {},
   "outputs": [
    {
     "data": {
      "text/plain": [
       "array([1, 2])"
      ]
     },
     "execution_count": 7,
     "metadata": {},
     "output_type": "execute_result"
    }
   ],
   "source": [
    "#Y en numpy para el primer indice se hace de la misma forma \n",
    "A[0]"
   ]
  },
  {
   "cell_type": "code",
   "execution_count": 8,
   "metadata": {},
   "outputs": [
    {
     "data": {
      "text/plain": [
       "1"
      ]
     },
     "execution_count": 8,
     "metadata": {},
     "output_type": "execute_result"
    }
   ],
   "source": [
    "#Pero para el subindice debemos hacer lo siguiente\n",
    "A[0,0]"
   ]
  },
  {
   "cell_type": "code",
   "execution_count": 9,
   "metadata": {},
   "outputs": [
    {
     "data": {
      "text/plain": [
       "1"
      ]
     },
     "execution_count": 9,
     "metadata": {},
     "output_type": "execute_result"
    }
   ],
   "source": [
    "#Aunque igual funciona la misma forma de la lista\n",
    "A[0][0]"
   ]
  },
  {
   "cell_type": "code",
   "execution_count": 10,
   "metadata": {},
   "outputs": [],
   "source": [
    "#Para pazarlo a matriz lo podemos hacer con el metodo matrix\n",
    "matriz = np.matrix(A)"
   ]
  },
  {
   "cell_type": "code",
   "execution_count": 11,
   "metadata": {},
   "outputs": [
    {
     "data": {
      "text/plain": [
       "matrix([[1, 2],\n",
       "        [1, 2],\n",
       "        [1, 2]])"
      ]
     },
     "execution_count": 11,
     "metadata": {},
     "output_type": "execute_result"
    }
   ],
   "source": [
    "matriz"
   ]
  },
  {
   "cell_type": "markdown",
   "metadata": {},
   "source": [
    "### Generando Matrices\n",
    "\n",
    "Al igual que en ***matlab*** o ***wolfram*** podemos generar matrices de n dimensiones solo con una linea de codigo hasta ahora estabamos haciendo esto\n",
    "\n",
    "```python\n",
    "   np.array([1,2,3])\n",
    "```\n",
    "Pero hay una forma de generar esta listas con zeros numeros leatorios o con un elemento ahora lo veremos"
   ]
  },
  {
   "cell_type": "code",
   "execution_count": 17,
   "metadata": {},
   "outputs": [],
   "source": [
    "#Si queremos una array de tamaño 10 con zeros tendremos hacer esto\n",
    "A = np.zeros(10)"
   ]
  },
  {
   "cell_type": "code",
   "execution_count": 18,
   "metadata": {},
   "outputs": [
    {
     "data": {
      "text/plain": [
       "array([0., 0., 0., 0., 0., 0., 0., 0., 0., 0.])"
      ]
     },
     "execution_count": 18,
     "metadata": {},
     "output_type": "execute_result"
    }
   ],
   "source": [
    "A"
   ]
  },
  {
   "cell_type": "code",
   "execution_count": 20,
   "metadata": {},
   "outputs": [
    {
     "data": {
      "text/plain": [
       "array([[0., 0., 0., 0., 0., 0., 0., 0., 0., 0.],\n",
       "       [0., 0., 0., 0., 0., 0., 0., 0., 0., 0.],\n",
       "       [0., 0., 0., 0., 0., 0., 0., 0., 0., 0.],\n",
       "       [0., 0., 0., 0., 0., 0., 0., 0., 0., 0.],\n",
       "       [0., 0., 0., 0., 0., 0., 0., 0., 0., 0.],\n",
       "       [0., 0., 0., 0., 0., 0., 0., 0., 0., 0.],\n",
       "       [0., 0., 0., 0., 0., 0., 0., 0., 0., 0.],\n",
       "       [0., 0., 0., 0., 0., 0., 0., 0., 0., 0.],\n",
       "       [0., 0., 0., 0., 0., 0., 0., 0., 0., 0.],\n",
       "       [0., 0., 0., 0., 0., 0., 0., 0., 0., 0.]])"
      ]
     },
     "execution_count": 20,
     "metadata": {},
     "output_type": "execute_result"
    }
   ],
   "source": [
    "# O si queremos tomar otra dimension de lo tenemos que pasar en forma de tupla\n",
    "# Donde n sera el numero de elementos y d el numero de dimensiones\n",
    "np.zeros((10,10))"
   ]
  },
  {
   "cell_type": "code",
   "execution_count": 21,
   "metadata": {},
   "outputs": [],
   "source": [
    "#Y tenemos una funcion para hacerlo con unos\n",
    "O = np.ones((10,10))"
   ]
  },
  {
   "cell_type": "code",
   "execution_count": 22,
   "metadata": {},
   "outputs": [
    {
     "data": {
      "text/plain": [
       "array([[1., 1., 1., 1., 1., 1., 1., 1., 1., 1.],\n",
       "       [1., 1., 1., 1., 1., 1., 1., 1., 1., 1.],\n",
       "       [1., 1., 1., 1., 1., 1., 1., 1., 1., 1.],\n",
       "       [1., 1., 1., 1., 1., 1., 1., 1., 1., 1.],\n",
       "       [1., 1., 1., 1., 1., 1., 1., 1., 1., 1.],\n",
       "       [1., 1., 1., 1., 1., 1., 1., 1., 1., 1.],\n",
       "       [1., 1., 1., 1., 1., 1., 1., 1., 1., 1.],\n",
       "       [1., 1., 1., 1., 1., 1., 1., 1., 1., 1.],\n",
       "       [1., 1., 1., 1., 1., 1., 1., 1., 1., 1.],\n",
       "       [1., 1., 1., 1., 1., 1., 1., 1., 1., 1.]])"
      ]
     },
     "execution_count": 22,
     "metadata": {},
     "output_type": "execute_result"
    }
   ],
   "source": [
    "O"
   ]
  },
  {
   "cell_type": "code",
   "execution_count": 29,
   "metadata": {},
   "outputs": [],
   "source": [
    "#Con numeros aleatorios seria\n",
    "R = np.random.random((10,10))"
   ]
  },
  {
   "cell_type": "code",
   "execution_count": 30,
   "metadata": {},
   "outputs": [
    {
     "data": {
      "text/plain": [
       "array([[0.66927213, 0.15457579, 0.87430381, 0.08464459, 0.20186587,\n",
       "        0.91390183, 0.14899009, 0.54201759, 0.43555611, 0.94805637],\n",
       "       [0.84379646, 0.05468731, 0.80610634, 0.16470344, 0.38199691,\n",
       "        0.21157672, 0.16640282, 0.65751203, 0.9563996 , 0.30397697],\n",
       "       [0.2578919 , 0.32359596, 0.9411166 , 0.32036315, 0.91387992,\n",
       "        0.39542539, 0.24364233, 0.72958086, 0.69779316, 0.62954371],\n",
       "       [0.50342348, 0.584392  , 0.90534589, 0.10761579, 0.18856852,\n",
       "        0.95526802, 0.41198573, 0.8874506 , 0.82473018, 0.24197765],\n",
       "       [0.44845595, 0.2663502 , 0.73893402, 0.36328435, 0.59991273,\n",
       "        0.19148311, 0.47847544, 0.58736214, 0.51929975, 0.35691381],\n",
       "       [0.20874583, 0.23689022, 0.87787262, 0.0486752 , 0.62466676,\n",
       "        0.92945198, 0.5746834 , 0.88945016, 0.86778798, 0.89956699],\n",
       "       [0.15269867, 0.18794865, 0.36257406, 0.99060162, 0.98606651,\n",
       "        0.85868975, 0.95191545, 0.8185649 , 0.11487496, 0.17250338],\n",
       "       [0.39524602, 0.64055541, 0.549099  , 0.59507449, 0.64040361,\n",
       "        0.33702524, 0.09163386, 0.29969776, 0.23009708, 0.34519757],\n",
       "       [0.17638293, 0.19525591, 0.11565306, 0.80414631, 0.69913201,\n",
       "        0.59035167, 0.21859226, 0.94070266, 0.94563867, 0.41314508],\n",
       "       [0.51018398, 0.91259721, 0.28150824, 0.19487192, 0.86791405,\n",
       "        0.09066097, 0.56985045, 0.23176367, 0.85025031, 0.3961332 ]])"
      ]
     },
     "execution_count": 30,
     "metadata": {},
     "output_type": "execute_result"
    }
   ],
   "source": [
    "R"
   ]
  },
  {
   "cell_type": "markdown",
   "metadata": {},
   "source": [
    "### Numeros aleatorios\n",
    "\n",
    "Como podemos ver el ejemplo de arriba nos dio numeros aleatorios menores que 0, distribuidos de forma **uniforme** pero tenemos mas tipos de distribuciones como la distribucion **Gausiana**"
   ]
  },
  {
   "cell_type": "code",
   "execution_count": 32,
   "metadata": {},
   "outputs": [
    {
     "ename": "TypeError",
     "evalue": "'tuple' object cannot be interpreted as an integer",
     "output_type": "error",
     "traceback": [
      "\u001b[0;31m---------------------------------------------------------------------------\u001b[0m",
      "\u001b[0;31mTypeError\u001b[0m                                 Traceback (most recent call last)",
      "\u001b[0;32m<ipython-input-32-7d1f8881dd1c>\u001b[0m in \u001b[0;36m<module>\u001b[0;34m()\u001b[0m\n\u001b[0;32m----> 1\u001b[0;31m \u001b[0mG\u001b[0m \u001b[0;34m=\u001b[0m \u001b[0mnp\u001b[0m\u001b[0;34m.\u001b[0m\u001b[0mrandom\u001b[0m\u001b[0;34m.\u001b[0m\u001b[0mrandn\u001b[0m\u001b[0;34m(\u001b[0m\u001b[0;34m(\u001b[0m\u001b[0;36m10\u001b[0m\u001b[0;34m,\u001b[0m\u001b[0;36m10\u001b[0m\u001b[0;34m)\u001b[0m\u001b[0;34m)\u001b[0m\u001b[0;34m\u001b[0m\u001b[0m\n\u001b[0m",
      "\u001b[0;32mmtrand.pyx\u001b[0m in \u001b[0;36mmtrand.RandomState.randn\u001b[0;34m()\u001b[0m\n",
      "\u001b[0;32mmtrand.pyx\u001b[0m in \u001b[0;36mmtrand.RandomState.standard_normal\u001b[0;34m()\u001b[0m\n",
      "\u001b[0;32mmtrand.pyx\u001b[0m in \u001b[0;36mmtrand.cont0_array\u001b[0;34m()\u001b[0m\n",
      "\u001b[0;31mTypeError\u001b[0m: 'tuple' object cannot be interpreted as an integer"
     ]
    }
   ],
   "source": [
    "G = np.random.randn((10,10))"
   ]
  },
  {
   "cell_type": "markdown",
   "metadata": {},
   "source": [
    "Este error se origina porque la funcion solo lee enteros y una tupla no es interpretable como un entero en este caso debemos darle los valores de la siguiente forma"
   ]
  },
  {
   "cell_type": "code",
   "execution_count": 33,
   "metadata": {},
   "outputs": [],
   "source": [
    "G = np.random.randn(10,10)"
   ]
  },
  {
   "cell_type": "code",
   "execution_count": 34,
   "metadata": {},
   "outputs": [
    {
     "data": {
      "text/plain": [
       "array([[-1.44263393,  0.4414293 ,  0.36045602, -0.4982783 ,  0.55520868,\n",
       "         1.07031686,  2.83567873, -1.74019108,  0.77588883,  0.15750632],\n",
       "       [-0.96924123,  0.39137062, -0.81351657, -1.41456401, -0.28572992,\n",
       "        -0.96051658, -1.89031654, -0.43151988, -0.05974581, -0.19617502],\n",
       "       [-0.04654642, -0.62204645,  0.29157281,  0.29300596, -0.81342432,\n",
       "        -0.02432311,  0.81670941, -0.83838403, -1.52978054, -2.05801547],\n",
       "       [-0.33431481, -0.20569019, -0.3751574 , -1.26231084, -1.43629854,\n",
       "         0.36471094,  1.60645023,  0.90118603,  0.33760095, -1.65482571],\n",
       "       [ 0.55383798, -0.76911047, -0.81551025, -0.39047729, -0.52681456,\n",
       "        -0.58040034,  0.33015551, -0.57225741, -1.04060361,  0.96843632],\n",
       "       [-0.51552794,  0.76667214,  1.51230345,  0.31971714,  1.17130382,\n",
       "        -1.26839016,  0.07382881,  0.36102918, -0.06277792,  0.30960952],\n",
       "       [ 1.43887372, -0.91308795, -0.3156212 ,  1.21764992, -2.47497477,\n",
       "        -0.66023277,  0.73022826,  1.64594269,  0.58304809,  1.10555687],\n",
       "       [ 0.29856867,  0.22648266,  1.40375185, -1.06375807,  1.16282926,\n",
       "         0.40529472,  0.77709782, -1.0321979 ,  0.30299576,  1.78402326],\n",
       "       [-0.07293727,  0.39813788,  0.49665927, -1.61117354,  0.2688576 ,\n",
       "        -1.39275674,  0.68156019,  1.40712419, -0.65229077,  1.58679296],\n",
       "       [-0.82967828, -0.30306056,  0.28285629,  0.10259875,  0.84497482,\n",
       "        -1.42880409, -1.61974664, -0.42236072, -1.41447628,  1.24792813]])"
      ]
     },
     "execution_count": 34,
     "metadata": {},
     "output_type": "execute_result"
    }
   ],
   "source": [
    "G"
   ]
  },
  {
   "cell_type": "markdown",
   "metadata": {},
   "source": [
    "Y aqui tenemos nuestra matriz de distribuicion ***Gaussiana*** Lo que significa que seran numeros entre 0, 2\n",
    "\n",
    "Ahora veremos que numpy nos ofrece funciones para el analisis estadistico para eso haremos algunos calculo"
   ]
  },
  {
   "cell_type": "code",
   "execution_count": 35,
   "metadata": {},
   "outputs": [
    {
     "data": {
      "text/plain": [
       "-0.06686755025187123"
      ]
     },
     "execution_count": 35,
     "metadata": {},
     "output_type": "execute_result"
    }
   ],
   "source": [
    "#Promedio\n",
    "G.mean()"
   ]
  },
  {
   "cell_type": "code",
   "execution_count": 36,
   "metadata": {},
   "outputs": [
    {
     "data": {
      "text/plain": [
       "1.006099298397912"
      ]
     },
     "execution_count": 36,
     "metadata": {},
     "output_type": "execute_result"
    }
   ],
   "source": [
    "#Variante\n",
    "G.var()"
   ]
  },
  {
   "cell_type": "code",
   "execution_count": null,
   "metadata": {},
   "outputs": [],
   "source": []
  }
 ],
 "metadata": {
  "kernelspec": {
   "display_name": "Python 3",
   "language": "python",
   "name": "python3"
  },
  "language_info": {
   "codemirror_mode": {
    "name": "ipython",
    "version": 3
   },
   "file_extension": ".py",
   "mimetype": "text/x-python",
   "name": "python",
   "nbconvert_exporter": "python",
   "pygments_lexer": "ipython3",
   "version": "3.6.5"
  }
 },
 "nbformat": 4,
 "nbformat_minor": 2
}

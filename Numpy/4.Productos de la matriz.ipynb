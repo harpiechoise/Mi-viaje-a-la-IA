{
 "cells": [
  {
   "cell_type": "markdown",
   "metadata": {},
   "source": [
    "### Producto de la matiz\n",
    "\n",
    "Cuando aprendemos algebra lineal aprendemos de algo llamado multiplicacion de matrices y tienen unos requerimientos especiales el primero es que todas las dimensiones de las matrices que tratamos de multiplicar deven calzar ejemplo\n",
    "\n",
    "~~~python\n",
    "    A = np.matrix([[1,2,3][1,2,3][1,1,2]])\n",
    "    # La forma de esta matriz es 3 x 3\n",
    "    B = np.matrix([[1,2,3][1,2,3]]) \n",
    "    # La forma de esta no se puede obtener porque no es uniforme \n",
    "    # Por lo que al A * B multiplicarlar dara un error\n",
    "    \n",
    "ValueError: shapes (3,3) and (2,3) not aligned: 3 (dim 1) != 2 (dim 0)\n",
    "~~~\n",
    "***¿por que pasa esto?***\n",
    "\n",
    "Formula de la multiplicacion de matrices:\n",
    "\\begin{equation}\n",
    "C(i,j) = \\sum^{K}_{k=1} A(i,k)B(k,j)\n",
    "\\end{equation}\n",
    "\n",
    "Esto quiere decir que desde el primer elemento de la primera matriz hasta el ultimo K y k=1 se multiplicaran el elemento correspondiente a a la matriz A en la columna i y fila k con el elemento correspondiente a la columna i y la fila k de la algo asi \n",
    "\n",
    "No obstante si multiplicamos la matriz con lados menores a la de lados mayores podremos hacerlo sin problemas en este caso B * A donde la matriz con menos columnas seria B con 2 y A con 3, \n",
    "\n",
    "~~~python\n",
    "B.dot(A)\n",
    "\n",
    "matrix([[ 6, 12, 18],\n",
    "        [ 6, 12, 18]])\n",
    "~~~\n",
    "por que pasa esto, porque tanto A como B tienen 2 columnas por lo que el resultado seria la multiplicacion de la matriz con menos columnas y las primeras 2 de la matriz con mas columnas y no alteraria la formula ya que es una multiplicacion a nivel de los elementos es decir elemento por elemento para representar la multiplicacion elemento por elemento en **Machine Learning** se usa esta notacion\n",
    "\n",
    "\\begin{equation}\n",
    "\\bigodot o \\bigotimes\n",
    "\\end{equation}\n",
    "\n",
    "Tambien es de notar que sirve para matrices de __*n*__ dimensiones pero no para matrices de __n-1__ y __n__ dimensiones, deben ser dimensionalmente iguales \n",
    "\n",
    "Tambien debemos notar en numpy que la multiplicacion en ___*___  pero la funcion ***dot*** es multiplicacion por elementos\n"
   ]
  }
 ],
 "metadata": {
  "kernelspec": {
   "display_name": "Python 3",
   "language": "python",
   "name": "python3"
  },
  "language_info": {
   "codemirror_mode": {
    "name": "ipython",
    "version": 3
   },
   "file_extension": ".py",
   "mimetype": "text/x-python",
   "name": "python",
   "nbconvert_exporter": "python",
   "pygments_lexer": "ipython3",
   "version": "3.6.5"
  }
 },
 "nbformat": 4,
 "nbformat_minor": 2
}
